{
 "cells": [
  {
   "cell_type": "code",
   "execution_count": 1,
   "metadata": {},
   "outputs": [],
   "source": [
    "from simplex_method import *"
   ]
  },
  {
   "attachments": {},
   "cell_type": "markdown",
   "metadata": {},
   "source": [
    "Случайный пример"
   ]
  },
  {
   "cell_type": "code",
   "execution_count": 2,
   "metadata": {},
   "outputs": [],
   "source": [
    "c = np.array([1, 2, 3, 4])\n",
    "\n",
    "A = np.array([[1, 2, 0, 3],\n",
    "              [1, 0, 9, 7]])\n",
    "\n",
    "b = np.array([2, 1])"
   ]
  },
  {
   "cell_type": "code",
   "execution_count": 3,
   "metadata": {},
   "outputs": [
    {
     "name": "stdout",
     "output_type": "stream",
     "text": [
      "Оптимальное значение целевой функции: 2.33\n",
      "Оптимальный план:\n",
      "x_1 = 0.00\n",
      "x_2 = 1.00\n",
      "x_3 = 0.11\n",
      "x_4 = 0.00\n"
     ]
    },
    {
     "data": {
      "text/plain": [
       "([3, 2], 2.3333333333333335, array([0.11111111, 1.        ]))"
      ]
     },
     "execution_count": 3,
     "metadata": {},
     "output_type": "execute_result"
    }
   ],
   "source": [
    "solver = SimplexSolver(A, b, c)\n",
    "\n",
    "solver.solve()"
   ]
  },
  {
   "attachments": {},
   "cell_type": "markdown",
   "metadata": {},
   "source": [
    "Пример с практики"
   ]
  },
  {
   "cell_type": "code",
   "execution_count": 4,
   "metadata": {},
   "outputs": [],
   "source": [
    "c1 = np.array([7, -2, 0, 3, 1])\n",
    "\n",
    "A1 = np.array([[3, 4, 6, 1, -1],\n",
    "              [2, 0, -3, 2, 0],\n",
    "              [-1, 2, 0, 1, 2]])\n",
    "\n",
    "b1 = np.array([2, 10, 14])"
   ]
  },
  {
   "cell_type": "code",
   "execution_count": 5,
   "metadata": {},
   "outputs": [
    {
     "name": "stdout",
     "output_type": "stream",
     "text": [
      "Оптимальное значение целевой функции: 27.00\n",
      "Оптимальный план:\n",
      "x_1 = 1.50\n",
      "x_2 = 0.00\n",
      "x_3 = 0.00\n",
      "x_4 = 3.50\n",
      "x_5 = 6.00\n"
     ]
    },
    {
     "data": {
      "text/plain": [
       "([1, 4, 5], 27.0, array([1.5, 3.5, 6. ]))"
      ]
     },
     "execution_count": 5,
     "metadata": {},
     "output_type": "execute_result"
    }
   ],
   "source": [
    "solver = SimplexSolver(A1, b1, c1)\n",
    "\n",
    "solver.solve()"
   ]
  },
  {
   "attachments": {
    "image.png": {
     "image/png": "[encoded data removed]"
    }
   },
   "cell_type": "markdown",
   "metadata": {},
   "source": [
    "![image.png](attachment:image.png)"
   ]
  },
  {
   "attachments": {},
   "cell_type": "markdown",
   "metadata": {},
   "source": [
    "Пример неограниченной ц.ф."
   ]
  },
  {
   "cell_type": "code",
   "execution_count": 6,
   "metadata": {},
   "outputs": [],
   "source": [
    "c2 = np.array([1, 2, 3, 4])\n",
    "\n",
    "A2 = np.array([[1, 2, 0, 3],\n",
    "              [1, 0, 0, 7]])\n",
    "\n",
    "b2 = np.array([2, 1])"
   ]
  },
  {
   "cell_type": "code",
   "execution_count": 7,
   "metadata": {},
   "outputs": [
    {
     "name": "stdout",
     "output_type": "stream",
     "text": [
      "[[ 2.   0.   0.  -3.  -1. ]\n",
      " [ 1.   1.   0.   0.   7. ]\n",
      " [ 0.5  0.   1.   0.  -2. ]]\n"
     ]
    },
    {
     "ename": "ValueError",
     "evalue": "Целевая функция не ограничена сверху",
     "output_type": "error",
     "traceback": [
      "\u001b[1;31m---------------------------------------------------------------------------\u001b[0m",
      "\u001b[1;31mValueError\u001b[0m                                Traceback (most recent call last)",
      "Cell \u001b[1;32mIn[7], line 3\u001b[0m\n\u001b[0;32m      1\u001b[0m solver \u001b[39m=\u001b[39m SimplexSolver(A2, b2, c2)\n\u001b[1;32m----> 3\u001b[0m solver\u001b[39m.\u001b[39;49msolve()\n",
      "File \u001b[1;32mc:\\python\\optimization\\simplex_method.py:65\u001b[0m, in \u001b[0;36mSimplexSolver.solve\u001b[1;34m(self)\u001b[0m\n\u001b[0;32m     63\u001b[0m \u001b[39mif\u001b[39;00m \u001b[39mlen\u001b[39m(indices_pos) \u001b[39m==\u001b[39m \u001b[39m0\u001b[39m:\n\u001b[0;32m     64\u001b[0m     \u001b[39mprint\u001b[39m(T)\n\u001b[1;32m---> 65\u001b[0m     \u001b[39mraise\u001b[39;00m \u001b[39mValueError\u001b[39;00m(\u001b[39m\"\u001b[39m\u001b[39mЦелевая функция не ограничена сверху\u001b[39m\u001b[39m\"\u001b[39m)\n\u001b[0;32m     66\u001b[0m row \u001b[39m=\u001b[39m indices_pos[np\u001b[39m.\u001b[39margmin(T[indices_pos, \u001b[39m0\u001b[39m] \u001b[39m/\u001b[39m T[indices_pos, col])]\n\u001b[0;32m     67\u001b[0m N[row\u001b[39m-\u001b[39m\u001b[39m1\u001b[39m] \u001b[39m=\u001b[39m col \u001b[39m-\u001b[39m \u001b[39m1\u001b[39m\n",
      "\u001b[1;31mValueError\u001b[0m: Целевая функция не ограничена сверху"
     ]
    }
   ],
   "source": [
    "solver = SimplexSolver(A2, b2, c2)\n",
    "\n",
    "solver.solve()"
   ]
  },
  {
   "attachments": {},
   "cell_type": "markdown",
   "metadata": {},
   "source": [
    "Пример задачи, где нет базиса"
   ]
  },
  {
   "cell_type": "code",
   "execution_count": 8,
   "metadata": {},
   "outputs": [],
   "source": [
    "c3 = np.array([1, 2, 3, 4])\n",
    "\n",
    "A3 = np.array([[1, 1, 1, 1],\n",
    "              [1, 1, 1, 1]])\n",
    "\n",
    "b3 = np.array([2, 1])"
   ]
  },
  {
   "cell_type": "code",
   "execution_count": 9,
   "metadata": {},
   "outputs": [
    {
     "ename": "ValueError",
     "evalue": "Область допустимых планов пуста (базис недопустим, либо его нет)",
     "output_type": "error",
     "traceback": [
      "\u001b[1;31m---------------------------------------------------------------------------\u001b[0m",
      "\u001b[1;31mValueError\u001b[0m                                Traceback (most recent call last)",
      "Cell \u001b[1;32mIn[9], line 3\u001b[0m\n\u001b[0;32m      1\u001b[0m solver \u001b[39m=\u001b[39m SimplexSolver(A3, b3, c3)\n\u001b[1;32m----> 3\u001b[0m solver\u001b[39m.\u001b[39;49msolve()\n",
      "File \u001b[1;32mc:\\python\\optimization\\simplex_method.py:39\u001b[0m, in \u001b[0;36mSimplexSolver.solve\u001b[1;34m(self)\u001b[0m\n\u001b[0;32m     38\u001b[0m \u001b[39mdef\u001b[39;00m \u001b[39msolve\u001b[39m(\u001b[39mself\u001b[39m):\n\u001b[1;32m---> 39\u001b[0m     delta, N \u001b[39m=\u001b[39m \u001b[39mself\u001b[39;49m\u001b[39m.\u001b[39;49mfind_basis()\n\u001b[0;32m     40\u001b[0m     delta1 \u001b[39m=\u001b[39m \u001b[39m-\u001b[39mnp\u001b[39m.\u001b[39meye(delta\u001b[39m.\u001b[39mshape[\u001b[39m0\u001b[39m]\u001b[39m+\u001b[39m\u001b[39m1\u001b[39m)\n\u001b[0;32m     41\u001b[0m     delta1[\u001b[39m1\u001b[39m:,\u001b[39m1\u001b[39m:] \u001b[39m=\u001b[39m delta\n",
      "File \u001b[1;32mc:\\python\\optimization\\simplex_method.py:35\u001b[0m, in \u001b[0;36mSimplexSolver.find_basis\u001b[1;34m(self)\u001b[0m\n\u001b[0;32m     33\u001b[0m             \u001b[39mbreak\u001b[39;00m\n\u001b[0;32m     34\u001b[0m \u001b[39mif\u001b[39;00m \u001b[39mself\u001b[39m\u001b[39m.\u001b[39mbasis_candidate \u001b[39m==\u001b[39m []:\n\u001b[1;32m---> 35\u001b[0m     \u001b[39mraise\u001b[39;00m \u001b[39mValueError\u001b[39;00m(\u001b[39m\"\u001b[39m\u001b[39mОбласть допустимых планов пуста (базис недопустим, либо его нет)\u001b[39m\u001b[39m\"\u001b[39m)\n\u001b[0;32m     36\u001b[0m \u001b[39mreturn\u001b[39;00m delta, [\u001b[39m*\u001b[39mN]\n",
      "\u001b[1;31mValueError\u001b[0m: Область допустимых планов пуста (базис недопустим, либо его нет)"
     ]
    }
   ],
   "source": [
    "solver = SimplexSolver(A3, b3, c3)\n",
    "\n",
    "solver.solve()"
   ]
  },
  {
   "attachments": {},
   "cell_type": "markdown",
   "metadata": {},
   "source": [
    "[Пример из интернета](https://www.matburo.ru/Examples/Files/Simplex4.pdf)"
   ]
  },
  {
   "cell_type": "code",
   "execution_count": 10,
   "metadata": {},
   "outputs": [],
   "source": [
    "c4 = np.array([ -3,  1,  4,  0,  0])\n",
    "\n",
    "A4 = np.array([[  0, -1,  1,  1,  0],\n",
    "              [ -5,  1,  1,  0,  0],\n",
    "              [ -8,  1,  2,  0, -1]])\n",
    "\n",
    "b4 = np.array([1, 2, 3])"
   ]
  },
  {
   "cell_type": "code",
   "execution_count": 11,
   "metadata": {},
   "outputs": [
    {
     "name": "stdout",
     "output_type": "stream",
     "text": [
      "Оптимальное значение целевой функции: 16.00\n",
      "Оптимальный план:\n",
      "x_1 = 1.00\n",
      "x_2 = 3.00\n",
      "x_3 = 4.00\n",
      "x_4 = 0.00\n",
      "x_5 = 0.00\n"
     ]
    },
    {
     "data": {
      "text/plain": [
       "([1, 2, 3], 16.0, array([1., 3., 4.]))"
      ]
     },
     "execution_count": 11,
     "metadata": {},
     "output_type": "execute_result"
    }
   ],
   "source": [
    "solver = SimplexSolver(A4, b4, c4)\n",
    "\n",
    "solver.solve()"
   ]
  },
  {
   "attachments": {
    "image.png": {
     "image/png": "[encoded data removed]"
    }
   },
   "cell_type": "markdown",
   "metadata": {},
   "source": [
    "![image.png](attachment:image.png)"
   ]
  },
  {
   "attachments": {},
   "cell_type": "markdown",
   "metadata": {},
   "source": [
    "[Пример из интернета на неограниченную ц.ф.](https://www.matburo.ru/Examples/Files/Simplex6.pdf)"
   ]
  },
  {
   "cell_type": "code",
   "execution_count": 12,
   "metadata": {},
   "outputs": [],
   "source": [
    "c5 = np.array([ 1, 2, -1, 1])\n",
    "\n",
    "A5 = np.array([[ 1,  1, -2,  3],\n",
    "              [  2, -1, -1,  3]])\n",
    "\n",
    "b5 = np.array([1, 2])"
   ]
  },
  {
   "cell_type": "code",
   "execution_count": 13,
   "metadata": {},
   "outputs": [
    {
     "name": "stdout",
     "output_type": "stream",
     "text": [
      "[[ 1.00000000e+00  0.00000000e+00 -2.22044605e-16 -2.00000000e+00\n",
      "   3.00000000e+00]\n",
      " [ 1.00000000e+00  1.00000000e+00 -5.55111512e-17 -1.00000000e+00\n",
      "   2.00000000e+00]\n",
      " [ 0.00000000e+00  0.00000000e+00  1.00000000e+00 -1.00000000e+00\n",
      "   1.00000000e+00]]\n"
     ]
    },
    {
     "ename": "ValueError",
     "evalue": "Целевая функция не ограничена сверху",
     "output_type": "error",
     "traceback": [
      "\u001b[1;31m---------------------------------------------------------------------------\u001b[0m",
      "\u001b[1;31mValueError\u001b[0m                                Traceback (most recent call last)",
      "Cell \u001b[1;32mIn[13], line 3\u001b[0m\n\u001b[0;32m      1\u001b[0m solver \u001b[39m=\u001b[39m SimplexSolver(A5, b5, c5)\n\u001b[1;32m----> 3\u001b[0m solver\u001b[39m.\u001b[39;49msolve()\n",
      "File \u001b[1;32mc:\\python\\optimization\\simplex_method.py:65\u001b[0m, in \u001b[0;36mSimplexSolver.solve\u001b[1;34m(self)\u001b[0m\n\u001b[0;32m     63\u001b[0m \u001b[39mif\u001b[39;00m \u001b[39mlen\u001b[39m(indices_pos) \u001b[39m==\u001b[39m \u001b[39m0\u001b[39m:\n\u001b[0;32m     64\u001b[0m     \u001b[39mprint\u001b[39m(T)\n\u001b[1;32m---> 65\u001b[0m     \u001b[39mraise\u001b[39;00m \u001b[39mValueError\u001b[39;00m(\u001b[39m\"\u001b[39m\u001b[39mЦелевая функция не ограничена сверху\u001b[39m\u001b[39m\"\u001b[39m)\n\u001b[0;32m     66\u001b[0m row \u001b[39m=\u001b[39m indices_pos[np\u001b[39m.\u001b[39margmin(T[indices_pos, \u001b[39m0\u001b[39m] \u001b[39m/\u001b[39m T[indices_pos, col])]\n\u001b[0;32m     67\u001b[0m N[row\u001b[39m-\u001b[39m\u001b[39m1\u001b[39m] \u001b[39m=\u001b[39m col \u001b[39m-\u001b[39m \u001b[39m1\u001b[39m\n",
      "\u001b[1;31mValueError\u001b[0m: Целевая функция не ограничена сверху"
     ]
    }
   ],
   "source": [
    "solver = SimplexSolver(A5, b5, c5)\n",
    "\n",
    "solver.solve()"
   ]
  },
  {
   "attachments": {
    "image.png": {
     "image/png": "[encoded data removed]"
    }
   },
   "cell_type": "markdown",
   "metadata": {},
   "source": [
    "![image.png](attachment:image.png)"
   ]
  },
  {
   "attachments": {},
   "cell_type": "markdown",
   "metadata": {},
   "source": [
    "*только в моём случае столбец с отрицательными коэффициентами другой, так как алгоритм начал работу с другого допустимого базиса"
   ]
  },
  {
   "attachments": {},
   "cell_type": "markdown",
   "metadata": {},
   "source": [
    "Проверка варианта"
   ]
  },
  {
   "cell_type": "code",
   "execution_count": 20,
   "metadata": {},
   "outputs": [],
   "source": [
    "c6 = np.array([ 2, -3, 0, 4, -6, 1])\n",
    "\n",
    "A6 = np.array([[ 1,  3, 1,  4, 5, 0],\n",
    "              [  0, -2, 4,  1, -1, -3],\n",
    "              [1, 7, -7, 2, 7, 6]])\n",
    "\n",
    "b6 = np.array([18, 4, 10])"
   ]
  },
  {
   "cell_type": "code",
   "execution_count": 21,
   "metadata": {},
   "outputs": [
    {
     "ename": "ValueError",
     "evalue": "Область допустимых планов пуста (базис недопустим, либо его нет)",
     "output_type": "error",
     "traceback": [
      "\u001b[1;31m---------------------------------------------------------------------------\u001b[0m",
      "\u001b[1;31mValueError\u001b[0m                                Traceback (most recent call last)",
      "Cell \u001b[1;32mIn[21], line 3\u001b[0m\n\u001b[0;32m      1\u001b[0m solver \u001b[39m=\u001b[39m SimplexSolver(A6, b6, c6)\n\u001b[1;32m----> 3\u001b[0m solver\u001b[39m.\u001b[39;49msolve()\n",
      "File \u001b[1;32mc:\\python\\optimization\\simplex_method.py:39\u001b[0m, in \u001b[0;36mSimplexSolver.solve\u001b[1;34m(self)\u001b[0m\n\u001b[0;32m     38\u001b[0m \u001b[39mdef\u001b[39;00m \u001b[39msolve\u001b[39m(\u001b[39mself\u001b[39m):\n\u001b[1;32m---> 39\u001b[0m     delta, N \u001b[39m=\u001b[39m \u001b[39mself\u001b[39;49m\u001b[39m.\u001b[39;49mfind_basis()\n\u001b[0;32m     40\u001b[0m     delta1 \u001b[39m=\u001b[39m \u001b[39m-\u001b[39mnp\u001b[39m.\u001b[39meye(delta\u001b[39m.\u001b[39mshape[\u001b[39m0\u001b[39m]\u001b[39m+\u001b[39m\u001b[39m1\u001b[39m)\n\u001b[0;32m     41\u001b[0m     delta1[\u001b[39m1\u001b[39m:,\u001b[39m1\u001b[39m:] \u001b[39m=\u001b[39m delta\n",
      "File \u001b[1;32mc:\\python\\optimization\\simplex_method.py:35\u001b[0m, in \u001b[0;36mSimplexSolver.find_basis\u001b[1;34m(self)\u001b[0m\n\u001b[0;32m     33\u001b[0m             \u001b[39mbreak\u001b[39;00m\n\u001b[0;32m     34\u001b[0m \u001b[39mif\u001b[39;00m \u001b[39mself\u001b[39m\u001b[39m.\u001b[39mbasis_candidate \u001b[39m==\u001b[39m []:\n\u001b[1;32m---> 35\u001b[0m     \u001b[39mraise\u001b[39;00m \u001b[39mValueError\u001b[39;00m(\u001b[39m\"\u001b[39m\u001b[39mОбласть допустимых планов пуста (базис недопустим, либо его нет)\u001b[39m\u001b[39m\"\u001b[39m)\n\u001b[0;32m     36\u001b[0m \u001b[39mreturn\u001b[39;00m delta, [\u001b[39m*\u001b[39mN]\n",
      "\u001b[1;31mValueError\u001b[0m: Область допустимых планов пуста (базис недопустим, либо его нет)"
     ]
    }
   ],
   "source": [
    "solver = SimplexSolver(A6, b6, c6)\n",
    "\n",
    "solver.solve()"
   ]
  }
 ],
 "metadata": {
  "kernelspec": {
   "display_name": "base",
   "language": "python",
   "name": "python3"
  },
  "language_info": {
   "codemirror_mode": {
    "name": "ipython",
    "version": 3
   },
   "file_extension": ".py",
   "mimetype": "text/x-python",
   "name": "python",
   "nbconvert_exporter": "python",
   "pygments_lexer": "ipython3",
   "version": "3.10.9"
  },
  "orig_nbformat": 4
 },
 "nbformat": 4,
 "nbformat_minor": 2
}
